This is a placeholder for my Colab notebook.
